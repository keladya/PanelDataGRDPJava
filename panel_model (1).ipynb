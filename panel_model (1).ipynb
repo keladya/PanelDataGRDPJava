{
  "nbformat": 4,
  "nbformat_minor": 0,
  "metadata": {
    "colab": {
      "provenance": [],
      "collapsed_sections": [
        "37Ds8WoCB5OH",
        "Eczd6989_4b8"
      ]
    },
    "kernelspec": {
      "name": "python3",
      "display_name": "Python 3"
    },
    "language_info": {
      "name": "python"
    }
  },
  "cells": [
    {
      "cell_type": "code",
      "source": [
        "!pip install linearmodels"
      ],
      "metadata": {
        "colab": {
          "base_uri": "https://localhost:8080/"
        },
        "id": "dNBvuV446-tG",
        "outputId": "08981ac3-c928-4f43-8135-b5bb426fc807"
      },
      "execution_count": null,
      "outputs": [
        {
          "output_type": "stream",
          "name": "stdout",
          "text": [
            "Requirement already satisfied: linearmodels in /usr/local/lib/python3.10/dist-packages (6.1)\n",
            "Requirement already satisfied: numpy<3,>=1.22.3 in /usr/local/lib/python3.10/dist-packages (from linearmodels) (1.26.4)\n",
            "Requirement already satisfied: pandas>=1.4.0 in /usr/local/lib/python3.10/dist-packages (from linearmodels) (2.2.2)\n",
            "Requirement already satisfied: scipy>=1.8.0 in /usr/local/lib/python3.10/dist-packages (from linearmodels) (1.13.1)\n",
            "Requirement already satisfied: statsmodels>=0.13.0 in /usr/local/lib/python3.10/dist-packages (from linearmodels) (0.14.4)\n",
            "Requirement already satisfied: mypy-extensions>=0.4 in /usr/local/lib/python3.10/dist-packages (from linearmodels) (1.0.0)\n",
            "Requirement already satisfied: Cython>=3.0.10 in /usr/local/lib/python3.10/dist-packages (from linearmodels) (3.0.11)\n",
            "Requirement already satisfied: pyhdfe>=0.1 in /usr/local/lib/python3.10/dist-packages (from linearmodels) (0.2.0)\n",
            "Requirement already satisfied: formulaic>=1.0.0 in /usr/local/lib/python3.10/dist-packages (from linearmodels) (1.1.1)\n",
            "Requirement already satisfied: setuptools-scm<9.0.0,>=8.0.0 in /usr/local/lib/python3.10/dist-packages (from setuptools-scm[toml]<9.0.0,>=8.0.0->linearmodels) (8.1.0)\n",
            "Requirement already satisfied: interface-meta>=1.2.0 in /usr/local/lib/python3.10/dist-packages (from formulaic>=1.0.0->linearmodels) (1.3.0)\n",
            "Requirement already satisfied: typing-extensions>=4.2.0 in /usr/local/lib/python3.10/dist-packages (from formulaic>=1.0.0->linearmodels) (4.12.2)\n",
            "Requirement already satisfied: wrapt>=1.0 in /usr/local/lib/python3.10/dist-packages (from formulaic>=1.0.0->linearmodels) (1.17.0)\n",
            "Requirement already satisfied: python-dateutil>=2.8.2 in /usr/local/lib/python3.10/dist-packages (from pandas>=1.4.0->linearmodels) (2.8.2)\n",
            "Requirement already satisfied: pytz>=2020.1 in /usr/local/lib/python3.10/dist-packages (from pandas>=1.4.0->linearmodels) (2024.2)\n",
            "Requirement already satisfied: tzdata>=2022.7 in /usr/local/lib/python3.10/dist-packages (from pandas>=1.4.0->linearmodels) (2024.2)\n",
            "Requirement already satisfied: packaging>=20 in /usr/local/lib/python3.10/dist-packages (from setuptools-scm<9.0.0,>=8.0.0->setuptools-scm[toml]<9.0.0,>=8.0.0->linearmodels) (24.2)\n",
            "Requirement already satisfied: setuptools in /usr/local/lib/python3.10/dist-packages (from setuptools-scm<9.0.0,>=8.0.0->setuptools-scm[toml]<9.0.0,>=8.0.0->linearmodels) (75.1.0)\n",
            "Requirement already satisfied: tomli>=1 in /usr/local/lib/python3.10/dist-packages (from setuptools-scm<9.0.0,>=8.0.0->setuptools-scm[toml]<9.0.0,>=8.0.0->linearmodels) (2.2.1)\n",
            "Requirement already satisfied: patsy>=0.5.6 in /usr/local/lib/python3.10/dist-packages (from statsmodels>=0.13.0->linearmodels) (1.0.1)\n",
            "Requirement already satisfied: six>=1.5 in /usr/local/lib/python3.10/dist-packages (from python-dateutil>=2.8.2->pandas>=1.4.0->linearmodels) (1.17.0)\n"
          ]
        }
      ]
    },
    {
      "cell_type": "code",
      "source": [
        "import pandas as pd\n",
        "import numpy as np\n",
        "import statsmodels.api as sm\n",
        "from linearmodels.panel import PanelOLS, RandomEffects\n",
        "from scipy.stats import chi2\n",
        "import statsmodels.formula.api as smf"
      ],
      "metadata": {
        "id": "_X8cSnCx-CgS"
      },
      "execution_count": null,
      "outputs": []
    },
    {
      "cell_type": "code",
      "source": [
        "import pandas as pd\n",
        "\n",
        "# Load the spreadsheet\n",
        "file_path = '/content/data_ekonom.xlsx'\n",
        "excel_data = pd.ExcelFile(file_path)\n",
        "\n",
        "# Check sheet names to understand the structure of the file\n",
        "excel_data.sheet_names"
      ],
      "metadata": {
        "colab": {
          "base_uri": "https://localhost:8080/"
        },
        "id": "qa5aLZh1KlpX",
        "outputId": "03d79882-6f52-4fe3-d08d-6ecf2b39b2d0"
      },
      "execution_count": null,
      "outputs": [
        {
          "output_type": "execute_result",
          "data": {
            "text/plain": [
              "['PDRB', 'PAD', 'Kerja_Umur15', 'Tabungan', 'Kredit', 'pooled']"
            ]
          },
          "metadata": {},
          "execution_count": 25
        }
      ]
    },
    {
      "cell_type": "markdown",
      "source": [
        "# Pooled"
      ],
      "metadata": {
        "id": "37Ds8WoCB5OH"
      }
    },
    {
      "cell_type": "code",
      "source": [
        "import numpy as np\n",
        "import pandas as pd\n",
        "import statsmodels.api as sm\n",
        "from linearmodels.panel import PanelOLS, RandomEffects\n",
        "\n",
        "# Load the Excel file\n",
        "file_path = '/content/data_ekonom.xlsx'\n",
        "xls = pd.ExcelFile(file_path)\n",
        "\n",
        "# Read the 'pooled-2014' sheet into a pandas DataFrame\n",
        "df = pd.read_excel(xls, sheet_name='pooled')\n",
        "\n",
        "# Transformasi logaritma natural untuk variabel independen dan dependen\n",
        "independent_variables = ['PAD', 'Kerja_Umur15', 'Tabungan', 'Kredit']\n",
        "for var in independent_variables:\n",
        "    df[f'ln_{var}'] = np.log(df[var])\n",
        "\n",
        "# Transformasi log untuk variabel dependen\n",
        "df['ln_PDRB'] = np.log(df['PDRB'])\n",
        "\n",
        "# Tentukan variabel dependen dan independen\n",
        "dependent_variable = df['ln_PDRB']\n",
        "independent_variable_ln = df[['ln_PAD', 'ln_Kerja_Umur15', 'ln_Tabungan', 'ln_Kredit']]\n",
        "\n",
        "# Tambahkan konstanta ke variabel independen\n",
        "independent_variable_ln = sm.add_constant(independent_variable_ln)\n",
        "\n",
        "# Fit model OLS menggunakan variabel independen yang sudah di-ln\n",
        "model_OLS_ln = sm.OLS(dependent_variable, independent_variable_ln).fit()\n",
        "\n",
        "# Tampilkan ringkasan hasil model\n",
        "print(model_OLS_ln.summary())\n"
      ],
      "metadata": {
        "colab": {
          "base_uri": "https://localhost:8080/"
        },
        "id": "skxUihz0BURZ",
        "outputId": "d06df858-f27e-4112-b585-f807ca2b4825"
      },
      "execution_count": null,
      "outputs": [
        {
          "output_type": "stream",
          "name": "stdout",
          "text": [
            "                            OLS Regression Results                            \n",
            "==============================================================================\n",
            "Dep. Variable:                ln_PDRB   R-squared:                       0.822\n",
            "Model:                            OLS   Adj. R-squared:                  0.818\n",
            "Method:                 Least Squares   F-statistic:                     196.3\n",
            "Date:                Mon, 23 Dec 2024   Prob (F-statistic):           1.36e-62\n",
            "Time:                        01:53:43   Log-Likelihood:                -19.096\n",
            "No. Observations:                 175   AIC:                             48.19\n",
            "Df Residuals:                     170   BIC:                             64.02\n",
            "Df Model:                           4                                         \n",
            "Covariance Type:            nonrobust                                         \n",
            "===================================================================================\n",
            "                      coef    std err          t      P>|t|      [0.025      0.975]\n",
            "-----------------------------------------------------------------------------------\n",
            "const              -0.3735      0.637     -0.586      0.559      -1.631       0.884\n",
            "ln_PAD              0.0090      0.008      1.129      0.261      -0.007       0.025\n",
            "ln_Kerja_Umur15     0.5577      0.037     14.939      0.000       0.484       0.631\n",
            "ln_Tabungan         0.2679      0.060      4.472      0.000       0.150       0.386\n",
            "ln_Kredit           0.3741      0.056      6.682      0.000       0.264       0.485\n",
            "==============================================================================\n",
            "Omnibus:                       94.674   Durbin-Watson:                   0.456\n",
            "Prob(Omnibus):                  0.000   Jarque-Bera (JB):              384.355\n",
            "Skew:                           2.169   Prob(JB):                     3.45e-84\n",
            "Kurtosis:                       8.822   Cond. No.                         936.\n",
            "==============================================================================\n",
            "\n",
            "Notes:\n",
            "[1] Standard Errors assume that the covariance matrix of the errors is correctly specified.\n"
          ]
        }
      ]
    },
    {
      "cell_type": "markdown",
      "source": [
        "# FEM"
      ],
      "metadata": {
        "id": "Bj7-PWxi2TG2"
      }
    },
    {
      "cell_type": "markdown",
      "source": [
        "FEM time"
      ],
      "metadata": {
        "id": "jf7B84TC2W-E"
      }
    },
    {
      "cell_type": "code",
      "source": [
        "import numpy as np\n",
        "import pandas as pd\n",
        "from linearmodels.panel import PanelOLS, RandomEffects\n",
        "from scipy.stats import chi2\n",
        "\n",
        "# Transformasi logaritma natural untuk variabel independen dan dependen\n",
        "independent_variables = ['PAD', 'Kerja_Umur15', 'Tabungan', 'Kredit']\n",
        "for var in independent_variables:\n",
        "    df[f'ln_{var}'] = np.log(df[var])\n",
        "\n",
        "# Transformasi log untuk variabel dependen\n",
        "df['ln_PDRB'] = np.log(df['PDRB'])\n",
        "\n",
        "# Atur indeks panel data\n",
        "df = df.reset_index()\n",
        "df = df.set_index(['Kabupaten', 'Tahun'])\n",
        "\n",
        "# Formula regresi\n",
        "formula = \"ln_PDRB ~ \" + \" + \".join([f'ln_{var}' for var in independent_variables]) + \" + TimeEffects\"\n",
        "\n",
        "# Estimasi model Fixed Effects (FEM)\n",
        "model_fem_time = PanelOLS.from_formula(formula, df)\n",
        "results_fem_time = model_fem_time.fit(cov_type='clustered', cluster_entity=True)"
      ],
      "metadata": {
        "id": "AZ_pPbIi2fcF"
      },
      "execution_count": null,
      "outputs": []
    },
    {
      "cell_type": "code",
      "source": [
        "print(results_fem_time)"
      ],
      "metadata": {
        "colab": {
          "base_uri": "https://localhost:8080/"
        },
        "id": "e2MsMOy-2gmD",
        "outputId": "84ca7b10-895e-4d4f-c156-5a55e9a98be8"
      },
      "execution_count": null,
      "outputs": [
        {
          "output_type": "stream",
          "name": "stdout",
          "text": [
            "                          PanelOLS Estimation Summary                           \n",
            "================================================================================\n",
            "Dep. Variable:                ln_PDRB   R-squared:                        0.8285\n",
            "Estimator:                   PanelOLS   R-squared (Between):              0.9899\n",
            "No. Observations:                 175   R-squared (Within):              -14.949\n",
            "Date:                Mon, Dec 23 2024   R-squared (Overall):              0.9896\n",
            "Time:                        01:53:45   Log-likelihood                   -14.683\n",
            "Cov. Estimator:             Clustered                                           \n",
            "                                        F-statistic:                      200.51\n",
            "Entities:                          35   P-value                           0.0000\n",
            "Avg Obs:                       5.0000   Distribution:                   F(4,166)\n",
            "Min Obs:                       5.0000                                           \n",
            "Max Obs:                       5.0000   F-statistic (robust):             44.411\n",
            "                                        P-value                           0.0000\n",
            "Time periods:                       5   Distribution:                   F(4,166)\n",
            "Avg Obs:                       35.000                                           \n",
            "Min Obs:                       35.000                                           \n",
            "Max Obs:                       35.000                                           \n",
            "                                                                                \n",
            "                                Parameter Estimates                                \n",
            "===================================================================================\n",
            "                 Parameter  Std. Err.     T-stat    P-value    Lower CI    Upper CI\n",
            "-----------------------------------------------------------------------------------\n",
            "ln_PAD              0.1178     0.1759     0.6700     0.5038     -0.2294      0.4651\n",
            "ln_Kerja_Umur15     0.5340     0.0749     7.1291     0.0000      0.3861      0.6819\n",
            "ln_Tabungan         0.2454     0.1348     1.8209     0.0704     -0.0207      0.5115\n",
            "ln_Kredit           0.3745     0.1936     1.9341     0.0548     -0.0078      0.7569\n",
            "===================================================================================\n",
            "\n",
            "F-test for Poolability: 2.1469\n",
            "P-value: 0.0773\n",
            "Distribution: F(4,166)\n",
            "\n",
            "Included effects: Time\n"
          ]
        }
      ]
    },
    {
      "cell_type": "markdown",
      "source": [
        "FEM indv"
      ],
      "metadata": {
        "id": "ZLVkEpTO3ZYD"
      }
    },
    {
      "cell_type": "code",
      "source": [
        "# Transformasi logaritma natural untuk variabel independen dan dependen\n",
        "independent_variables = ['PAD', 'Kerja_Umur15', 'Tabungan', 'Kredit']\n",
        "for var in independent_variables:\n",
        "    df[f'ln_{var}'] = np.log(df[var])\n",
        "\n",
        "df['ln_PDRB'] = np.log(df['PDRB'])\n",
        "\n",
        "# Atur indeks panel data\n",
        "df = df.reset_index()\n",
        "df = df.set_index(['Kabupaten', 'Tahun'])\n",
        "\n",
        "formula = \"ln_PDRB ~ \" + \" + \".join([f'ln_{var}' for var in independent_variables]) + \" + EntityEffects\"\n",
        "\n",
        "model_fem_indv = PanelOLS.from_formula(formula, df)\n",
        "results_fem_indv = model_fem_indv.fit(cov_type='clustered', cluster_entity=True)\n",
        "\n",
        "print(results_fem_indv.summary)"
      ],
      "metadata": {
        "id": "A6K7SRpV3aLk",
        "colab": {
          "base_uri": "https://localhost:8080/"
        },
        "outputId": "913c4a54-0bee-4ced-e4a4-8f466f3d36bf"
      },
      "execution_count": null,
      "outputs": [
        {
          "output_type": "stream",
          "name": "stdout",
          "text": [
            "                          PanelOLS Estimation Summary                           \n",
            "================================================================================\n",
            "Dep. Variable:                ln_PDRB   R-squared:                        0.9237\n",
            "Estimator:                   PanelOLS   R-squared (Between):              0.5596\n",
            "No. Observations:                 175   R-squared (Within):               0.9237\n",
            "Date:                Mon, Dec 23 2024   R-squared (Overall):              0.5596\n",
            "Time:                        02:02:44   Log-likelihood                    433.25\n",
            "Cov. Estimator:             Clustered                                           \n",
            "                                        F-statistic:                      411.38\n",
            "Entities:                          35   P-value                           0.0000\n",
            "Avg Obs:                       5.0000   Distribution:                   F(4,136)\n",
            "Min Obs:                       5.0000                                           \n",
            "Max Obs:                       5.0000   F-statistic (robust):             273.14\n",
            "                                        P-value                           0.0000\n",
            "Time periods:                       5   Distribution:                   F(4,136)\n",
            "Avg Obs:                       35.000                                           \n",
            "Min Obs:                       35.000                                           \n",
            "Max Obs:                       35.000                                           \n",
            "                                                                                \n",
            "                                Parameter Estimates                                \n",
            "===================================================================================\n",
            "                 Parameter  Std. Err.     T-stat    P-value    Lower CI    Upper CI\n",
            "-----------------------------------------------------------------------------------\n",
            "ln_PAD              0.0003     0.0005     0.6145     0.5399     -0.0007      0.0013\n",
            "ln_Kerja_Umur15     0.0387     0.0817     0.4735     0.6366     -0.1230      0.2004\n",
            "ln_Tabungan         0.1445     0.0350     4.1252     0.0001      0.0752      0.2138\n",
            "ln_Kredit           0.1952     0.0345     5.6643     0.0000      0.1270      0.2633\n",
            "===================================================================================\n",
            "\n",
            "F-test for Poolability: 699.44\n",
            "P-value: 0.0000\n",
            "Distribution: F(34,136)\n",
            "\n",
            "Included effects: Entity\n"
          ]
        }
      ]
    },
    {
      "cell_type": "markdown",
      "source": [
        "Dengan detail intercept sebagai berikut"
      ],
      "metadata": {
        "id": "N_mvJqewQOcE"
      }
    },
    {
      "cell_type": "code",
      "source": [
        "import numpy as np\n",
        "import pandas as pd\n",
        "import statsmodels.formula.api as smf\n",
        "\n",
        "# Define the regression formula using the ln-transformed variables\n",
        "formula = \"ln_PDRB ~ ln_PAD + ln_Kerja_Umur15 + ln_Tabungan + ln_Kredit + C(Kabupaten)\"\n",
        "\n",
        "# Reset the index to make 'Kabupaten' and 'Tahun' columns\n",
        "df = df.reset_index()\n",
        "\n",
        "#  Fixed Effects Model (FEM) menggunakan OLS\n",
        "model_fem = smf.ols(formula=formula, data=df)\n",
        "results_fem = model_fem.fit()\n",
        "\n",
        "# Tampilkan ringkasan hasil model\n",
        "print(results_fem.summary())"
      ],
      "metadata": {
        "colab": {
          "base_uri": "https://localhost:8080/"
        },
        "id": "W7U_OAR6M0GB",
        "outputId": "b61dfae3-c086-4694-85f8-f44cbe54494d"
      },
      "execution_count": null,
      "outputs": [
        {
          "output_type": "stream",
          "name": "stdout",
          "text": [
            "                            OLS Regression Results                            \n",
            "==============================================================================\n",
            "Dep. Variable:                ln_PDRB   R-squared:                       0.999\n",
            "Model:                            OLS   Adj. R-squared:                  0.999\n",
            "Method:                 Least Squares   F-statistic:                     3533.\n",
            "Date:                Mon, 23 Dec 2024   Prob (F-statistic):          3.40e-186\n",
            "Time:                        01:54:04   Log-Likelihood:                 433.25\n",
            "No. Observations:                 175   AIC:                            -788.5\n",
            "Df Residuals:                     136   BIC:                            -665.1\n",
            "Df Model:                          38                                         \n",
            "Covariance Type:            nonrobust                                         \n",
            "=========================================================================================================\n",
            "                                            coef    std err          t      P>|t|      [0.025      0.975]\n",
            "---------------------------------------------------------------------------------------------------------\n",
            "Intercept                                10.7892      0.763     14.139      0.000       9.280      12.298\n",
            "C(Kabupaten)[T.Kabupaten Banyumas]        0.4772      0.034     14.234      0.000       0.411       0.544\n",
            "C(Kabupaten)[T.Kabupaten Batang]          0.0864      0.023      3.821      0.000       0.042       0.131\n",
            "C(Kabupaten)[T.Kabupaten Blora]          -0.0211      0.015     -1.416      0.159      -0.051       0.008\n",
            "C(Kabupaten)[T.Kabupaten Boyolali]        0.3037      0.016     19.072      0.000       0.272       0.335\n",
            "C(Kabupaten)[T.Kabupaten Brebes]          0.6256      0.035     17.630      0.000       0.555       0.696\n",
            "C(Kabupaten)[T.Kabupaten Cilacap]         1.7116      0.037     46.339      0.000       1.639       1.785\n",
            "C(Kabupaten)[T.Kabupaten Demak]           0.1429      0.018      8.090      0.000       0.108       0.178\n",
            "C(Kabupaten)[T.Kabupaten Grobogan]        0.1588      0.027      5.894      0.000       0.106       0.212\n",
            "C(Kabupaten)[T.Kabupaten Jepara]          0.2590      0.020     12.684      0.000       0.219       0.299\n",
            "C(Kabupaten)[T.Kabupaten Karanganyar]     0.2557      0.025     10.397      0.000       0.207       0.304\n",
            "C(Kabupaten)[T.Kabupaten Kebumen]         0.1719      0.024      7.088      0.000       0.124       0.220\n",
            "C(Kabupaten)[T.Kabupaten Kendal]          0.6004      0.015     40.255      0.000       0.571       0.630\n",
            "C(Kabupaten)[T.Kabupaten Klaten]          0.3625      0.024     15.216      0.000       0.315       0.410\n",
            "C(Kabupaten)[T.Kabupaten Kudus]           1.2126      0.025     49.422      0.000       1.164       1.261\n",
            "C(Kabupaten)[T.Kabupaten Magelang]        0.3182      0.021     14.940      0.000       0.276       0.360\n",
            "C(Kabupaten)[T.Kabupaten Pati]            0.4271      0.024     17.935      0.000       0.380       0.474\n",
            "C(Kabupaten)[T.Kabupaten Pekalongan]      0.0496      0.016      3.097      0.002       0.018       0.081\n",
            "C(Kabupaten)[T.Kabupaten Pemalang]        0.1150      0.020      5.817      0.000       0.076       0.154\n",
            "C(Kabupaten)[T.Kabupaten Purbalingga]     0.1322      0.015      8.890      0.000       0.103       0.162\n",
            "C(Kabupaten)[T.Kabupaten Purworejo]      -0.0849      0.020     -4.179      0.000      -0.125      -0.045\n",
            "C(Kabupaten)[T.Kabupaten Rembang]        -0.1246      0.031     -4.073      0.000      -0.185      -0.064\n",
            "C(Kabupaten)[T.Kabupaten Semarang]        0.4312      0.023     18.838      0.000       0.386       0.476\n",
            "C(Kabupaten)[T.Kabupaten Sragen]          0.3609      0.016     22.939      0.000       0.330       0.392\n",
            "C(Kabupaten)[T.Kabupaten Sukoharjo]       0.2674      0.021     12.501      0.000       0.225       0.310\n",
            "C(Kabupaten)[T.Kabupaten Tegal]           0.3542      0.021     16.863      0.000       0.313       0.396\n",
            "C(Kabupaten)[T.Kabupaten Temanggung]      0.0018      0.017      0.103      0.918      -0.032       0.036\n",
            "C(Kabupaten)[T.Kabupaten Wonogiri]        0.2822      0.016     17.988      0.000       0.251       0.313\n",
            "C(Kabupaten)[T.Kabupaten Wonosobo]        0.0029      0.018      0.162      0.871      -0.033       0.039\n",
            "C(Kabupaten)[T.Kota Magelang]            -0.8440      0.110     -7.665      0.000      -1.062      -0.626\n",
            "C(Kabupaten)[T.Kota Pekalongan]          -0.7456      0.065    -11.497      0.000      -0.874      -0.617\n",
            "C(Kabupaten)[T.Kota Salatiga]            -0.4672      0.091     -5.122      0.000      -0.648      -0.287\n",
            "C(Kabupaten)[T.Kota Semarang]             1.2289      0.047     26.242      0.000       1.136       1.322\n",
            "C(Kabupaten)[T.Kota Surakarta]            0.2201      0.033      6.638      0.000       0.155       0.286\n",
            "C(Kabupaten)[T.Kota Tegal]               -0.3432      0.076     -4.541      0.000      -0.493      -0.194\n",
            "ln_PAD                                    0.0003      0.001      0.425      0.672      -0.001       0.002\n",
            "ln_Kerja_Umur15                           0.0387      0.055      0.700      0.485      -0.071       0.148\n",
            "ln_Tabungan                               0.1445      0.020      7.206      0.000       0.105       0.184\n",
            "ln_Kredit                                 0.1952      0.019     10.266      0.000       0.158       0.233\n",
            "==============================================================================\n",
            "Omnibus:                       10.200   Durbin-Watson:                   1.633\n",
            "Prob(Omnibus):                  0.006   Jarque-Bera (JB):               13.442\n",
            "Skew:                           0.381   Prob(JB):                      0.00121\n",
            "Kurtosis:                       4.123   Cond. No.                     1.37e+04\n",
            "==============================================================================\n",
            "\n",
            "Notes:\n",
            "[1] Standard Errors assume that the covariance matrix of the errors is correctly specified.\n",
            "[2] The condition number is large, 1.37e+04. This might indicate that there are\n",
            "strong multicollinearity or other numerical problems.\n"
          ]
        }
      ]
    },
    {
      "cell_type": "markdown",
      "source": [
        "FEM both"
      ],
      "metadata": {
        "id": "2MsN2SIi3syG"
      }
    },
    {
      "cell_type": "code",
      "source": [
        "# Transformasi logaritma natural untuk variabel independen dan dependen\n",
        "independent_variables = ['PAD', 'Kerja_Umur15', 'Tabungan', 'Kredit']\n",
        "for var in independent_variables:\n",
        "    df[f'ln_{var}'] = np.log(df[var])\n",
        "\n",
        "# Transformasi log untuk variabel dependen\n",
        "df['ln_PDRB'] = np.log(df['PDRB'])\n",
        "\n",
        "# Atur indeks panel data\n",
        "df = df.reset_index()\n",
        "df = df.set_index(['Kabupaten', 'Tahun'])\n",
        "\n",
        "# Formula regresi\n",
        "formula = \"ln_PDRB ~ \" + \" + \".join([f'ln_{var}' for var in independent_variables]) + \" + EntityEffects + TimeEffects\"\n",
        "\n",
        "# Estimasi model Fixed Effects (FEM)\n",
        "model_fem_both = PanelOLS.from_formula(formula, df)\n",
        "results_fem_both = model_fem_both.fit(cov_type='clustered', cluster_entity=True)\n",
        "print(results_fem_both)"
      ],
      "metadata": {
        "colab": {
          "base_uri": "https://localhost:8080/"
        },
        "id": "Sp6OPsk72lDx",
        "outputId": "1010662e-e471-4752-cfdd-53ea8c35fe7c"
      },
      "execution_count": null,
      "outputs": [
        {
          "output_type": "stream",
          "name": "stdout",
          "text": [
            "                          PanelOLS Estimation Summary                           \n",
            "================================================================================\n",
            "Dep. Variable:                ln_PDRB   R-squared:                        0.0865\n",
            "Estimator:                   PanelOLS   R-squared (Between):              0.0758\n",
            "No. Observations:                 175   R-squared (Within):               0.2266\n",
            "Date:                Mon, Dec 23 2024   R-squared (Overall):              0.0758\n",
            "Time:                        01:55:07   Log-likelihood                    597.28\n",
            "Cov. Estimator:             Clustered                                           \n",
            "                                        F-statistic:                      3.1248\n",
            "Entities:                          35   P-value                           0.0171\n",
            "Avg Obs:                       5.0000   Distribution:                   F(4,132)\n",
            "Min Obs:                       5.0000                                           \n",
            "Max Obs:                       5.0000   F-statistic (robust):             4.7795\n",
            "                                        P-value                           0.0012\n",
            "Time periods:                       5   Distribution:                   F(4,132)\n",
            "Avg Obs:                       35.000                                           \n",
            "Min Obs:                       35.000                                           \n",
            "Max Obs:                       35.000                                           \n",
            "                                                                                \n",
            "                                Parameter Estimates                                \n",
            "===================================================================================\n",
            "                 Parameter  Std. Err.     T-stat    P-value    Lower CI    Upper CI\n",
            "-----------------------------------------------------------------------------------\n",
            "ln_PAD             -0.0060     0.0021    -2.9260     0.0040     -0.0101     -0.0020\n",
            "ln_Kerja_Umur15     0.0160     0.0646     0.2470     0.8053     -0.1119      0.1438\n",
            "ln_Tabungan         0.0091     0.0143     0.6358     0.5260     -0.0192      0.0375\n",
            "ln_Kredit           0.0267     0.0155     1.7251     0.0869     -0.0039      0.0574\n",
            "===================================================================================\n",
            "\n",
            "F-test for Poolability: 3978.5\n",
            "P-value: 0.0000\n",
            "Distribution: F(38,132)\n",
            "\n",
            "Included effects: Entity, Time\n"
          ]
        }
      ]
    },
    {
      "cell_type": "code",
      "source": [
        "# Tampilkan semua atribut yang tersedia dalam objek hasil model\n",
        "print(dir(results_fem_time))"
      ],
      "metadata": {
        "colab": {
          "base_uri": "https://localhost:8080/"
        },
        "id": "F4WF2R436cPN",
        "outputId": "1087e6b0-4d8d-4de8-f5a7-9717d8aa678f"
      },
      "execution_count": null,
      "outputs": [
        {
          "output_type": "stream",
          "name": "stdout",
          "text": [
            "['__class__', '__delattr__', '__dict__', '__dir__', '__doc__', '__eq__', '__format__', '__ge__', '__getattribute__', '__gt__', '__hash__', '__init__', '__init_subclass__', '__le__', '__lt__', '__module__', '__ne__', '__new__', '__reduce__', '__reduce_ex__', '__repr__', '__setattr__', '__sizeof__', '__str__', '__subclasshook__', '__weakref__', '_c2b', '_c2o', '_c2w', '_cov_type', '_datetime', '_debiased', '_deferred_cov', '_df_model', '_df_resid', '_effects', '_entity_effect', '_entity_info', '_f_info', '_f_pooled', '_f_stat', '_fitted', '_idiosyncratic', '_index', '_loglik', '_name', '_nobs', '_not_null', '_original_index', '_other_effect', '_other_info', '_out_of_sample', '_params', '_r2', '_r2_ex_effects', '_r2b', '_r2o', '_r2w', '_repr_html_', '_resids', '_residual_ss', '_rho', '_s2', '_sigma2_effects', '_sigma2_eps', '_time_effect', '_time_info', '_total_ss', '_var_names', '_wresids', 'conf_int', 'corr_squared_between', 'corr_squared_overall', 'corr_squared_within', 'cov', 'df_model', 'df_resid', 'entity_info', 'estimated_effects', 'f_pooled', 'f_statistic', 'f_statistic_robust', 'fitted_values', 'idiosyncratic', 'included_effects', 'loglik', 'model', 'model_ss', 'name', 'nobs', 'other_info', 'params', 'predict', 'pvalues', 'resid_ss', 'resids', 'rsquared', 'rsquared_between', 'rsquared_inclusive', 'rsquared_overall', 'rsquared_within', 's2', 'std_errors', 'summary', 'time_info', 'total_ss', 'tstats', 'variance_decomposition', 'wald_test', 'wresids']\n"
          ]
        }
      ]
    },
    {
      "cell_type": "code",
      "source": [
        "# Jumlah parameter (k) dan jumlah observasi (n) dari setiap model\n",
        "k_fem_time = results_fem_time.params.shape[0]  # Jumlah parameter model FEM_Time\n",
        "k_fem_indv = results_fem_indv.params.shape[0]  # Jumlah parameter model FEM_Entity\n",
        "k_fem_both = results_fem_both.params.shape[0]  # Jumlah parameter model FEM_Both\n",
        "\n",
        "n_fem_time = results_fem_time.nobs  # Jumlah observasi model FEM_Time\n",
        "n_fem_indv = results_fem_indv.nobs  # Jumlah observasi model FEM_Entity\n",
        "n_fem_both = results_fem_both.nobs  # Jumlah observasi model FEM_Both\n",
        "\n",
        "# Log-likelihood dari setiap model\n",
        "loglik_fem_time = results_fem_time.loglik\n",
        "loglik_fem_indv = results_fem_indv.loglik\n",
        "loglik_fem_both = results_fem_both.loglik\n",
        "\n",
        "# Hitung AIC dan BIC secara manual\n",
        "aic_fem_time = -2 * loglik_fem_time + 2 * k_fem_time\n",
        "aic_fem_indv = -2 * loglik_fem_indv + 2 * k_fem_indv\n",
        "aic_fem_both = -2 * loglik_fem_both + 2 * k_fem_both\n",
        "\n",
        "bic_fem_time = -2 * loglik_fem_time + k_fem_time * np.log(n_fem_time)\n",
        "bic_fem_indv = -2 * loglik_fem_indv + k_fem_indv * np.log(n_fem_indv)\n",
        "bic_fem_both = -2 * loglik_fem_both + k_fem_both * np.log(n_fem_both)\n",
        "\n",
        "# Ringkasan hasil model dalam bentuk tabel\n",
        "results_comparison = pd.DataFrame({\n",
        "    \"Model\": [\"FEM_Time\", \"FEM_Entity\", \"FEM_Both\"],\n",
        "    \"R²_within\": [results_fem_time.rsquared_within, results_fem_indv.rsquared_within, results_fem_both.rsquared_within],\n",
        "    \"R²_between\": [results_fem_time.rsquared_between, results_fem_indv.rsquared_between, results_fem_both.rsquared_between],\n",
        "    \"R²_overall\": [results_fem_time.rsquared_overall, results_fem_indv.rsquared_overall, results_fem_both.rsquared_overall],\n",
        "    \"Log-Likelihood\": [loglik_fem_time, loglik_fem_indv, loglik_fem_both],\n",
        "    \"AIC\": [aic_fem_time, aic_fem_indv, aic_fem_both],\n",
        "    \"BIC\": [bic_fem_time, bic_fem_indv, bic_fem_both]\n",
        "})\n",
        "\n",
        "# Tampilkan tabel hasil\n",
        "print(\"Perbandingan Model FEM:\")\n",
        "results_comparison"
      ],
      "metadata": {
        "colab": {
          "base_uri": "https://localhost:8080/"
        },
        "id": "SY-1pLh86bsm",
        "outputId": "8cb8ef4b-3211-44ad-dc49-01f42749cfe3"
      },
      "execution_count": null,
      "outputs": [
        {
          "output_type": "stream",
          "name": "stdout",
          "text": [
            "Perbandingan Model FEM:\n"
          ]
        },
        {
          "output_type": "execute_result",
          "data": {
            "text/plain": [
              "        Model  R²_within  R²_between  R²_overall  Log-Likelihood          AIC  \\\n",
              "0    FEM_Time -14.948546    0.989877    0.989564      -14.682983    37.365965   \n",
              "1  FEM_Entity   0.923661    0.559569    0.559577      433.251862  -858.503723   \n",
              "2    FEM_Both   0.226616    0.075766    0.075769      597.281492 -1186.562983   \n",
              "\n",
              "           BIC  \n",
              "0    50.025109  \n",
              "1  -845.844580  \n",
              "2 -1173.903840  "
            ],
            "text/html": [
              "\n",
              "  <div id=\"df-2757bcc9-4385-4476-9bf4-edfa358812da\" class=\"colab-df-container\">\n",
              "    <div>\n",
              "<style scoped>\n",
              "    .dataframe tbody tr th:only-of-type {\n",
              "        vertical-align: middle;\n",
              "    }\n",
              "\n",
              "    .dataframe tbody tr th {\n",
              "        vertical-align: top;\n",
              "    }\n",
              "\n",
              "    .dataframe thead th {\n",
              "        text-align: right;\n",
              "    }\n",
              "</style>\n",
              "<table border=\"1\" class=\"dataframe\">\n",
              "  <thead>\n",
              "    <tr style=\"text-align: right;\">\n",
              "      <th></th>\n",
              "      <th>Model</th>\n",
              "      <th>R²_within</th>\n",
              "      <th>R²_between</th>\n",
              "      <th>R²_overall</th>\n",
              "      <th>Log-Likelihood</th>\n",
              "      <th>AIC</th>\n",
              "      <th>BIC</th>\n",
              "    </tr>\n",
              "  </thead>\n",
              "  <tbody>\n",
              "    <tr>\n",
              "      <th>0</th>\n",
              "      <td>FEM_Time</td>\n",
              "      <td>-14.948546</td>\n",
              "      <td>0.989877</td>\n",
              "      <td>0.989564</td>\n",
              "      <td>-14.682983</td>\n",
              "      <td>37.365965</td>\n",
              "      <td>50.025109</td>\n",
              "    </tr>\n",
              "    <tr>\n",
              "      <th>1</th>\n",
              "      <td>FEM_Entity</td>\n",
              "      <td>0.923661</td>\n",
              "      <td>0.559569</td>\n",
              "      <td>0.559577</td>\n",
              "      <td>433.251862</td>\n",
              "      <td>-858.503723</td>\n",
              "      <td>-845.844580</td>\n",
              "    </tr>\n",
              "    <tr>\n",
              "      <th>2</th>\n",
              "      <td>FEM_Both</td>\n",
              "      <td>0.226616</td>\n",
              "      <td>0.075766</td>\n",
              "      <td>0.075769</td>\n",
              "      <td>597.281492</td>\n",
              "      <td>-1186.562983</td>\n",
              "      <td>-1173.903840</td>\n",
              "    </tr>\n",
              "  </tbody>\n",
              "</table>\n",
              "</div>\n",
              "    <div class=\"colab-df-buttons\">\n",
              "\n",
              "  <div class=\"colab-df-container\">\n",
              "    <button class=\"colab-df-convert\" onclick=\"convertToInteractive('df-2757bcc9-4385-4476-9bf4-edfa358812da')\"\n",
              "            title=\"Convert this dataframe to an interactive table.\"\n",
              "            style=\"display:none;\">\n",
              "\n",
              "  <svg xmlns=\"http://www.w3.org/2000/svg\" height=\"24px\" viewBox=\"0 -960 960 960\">\n",
              "    <path d=\"M120-120v-720h720v720H120Zm60-500h600v-160H180v160Zm220 220h160v-160H400v160Zm0 220h160v-160H400v160ZM180-400h160v-160H180v160Zm440 0h160v-160H620v160ZM180-180h160v-160H180v160Zm440 0h160v-160H620v160Z\"/>\n",
              "  </svg>\n",
              "    </button>\n",
              "\n",
              "  <style>\n",
              "    .colab-df-container {\n",
              "      display:flex;\n",
              "      gap: 12px;\n",
              "    }\n",
              "\n",
              "    .colab-df-convert {\n",
              "      background-color: #E8F0FE;\n",
              "      border: none;\n",
              "      border-radius: 50%;\n",
              "      cursor: pointer;\n",
              "      display: none;\n",
              "      fill: #1967D2;\n",
              "      height: 32px;\n",
              "      padding: 0 0 0 0;\n",
              "      width: 32px;\n",
              "    }\n",
              "\n",
              "    .colab-df-convert:hover {\n",
              "      background-color: #E2EBFA;\n",
              "      box-shadow: 0px 1px 2px rgba(60, 64, 67, 0.3), 0px 1px 3px 1px rgba(60, 64, 67, 0.15);\n",
              "      fill: #174EA6;\n",
              "    }\n",
              "\n",
              "    .colab-df-buttons div {\n",
              "      margin-bottom: 4px;\n",
              "    }\n",
              "\n",
              "    [theme=dark] .colab-df-convert {\n",
              "      background-color: #3B4455;\n",
              "      fill: #D2E3FC;\n",
              "    }\n",
              "\n",
              "    [theme=dark] .colab-df-convert:hover {\n",
              "      background-color: #434B5C;\n",
              "      box-shadow: 0px 1px 3px 1px rgba(0, 0, 0, 0.15);\n",
              "      filter: drop-shadow(0px 1px 2px rgba(0, 0, 0, 0.3));\n",
              "      fill: #FFFFFF;\n",
              "    }\n",
              "  </style>\n",
              "\n",
              "    <script>\n",
              "      const buttonEl =\n",
              "        document.querySelector('#df-2757bcc9-4385-4476-9bf4-edfa358812da button.colab-df-convert');\n",
              "      buttonEl.style.display =\n",
              "        google.colab.kernel.accessAllowed ? 'block' : 'none';\n",
              "\n",
              "      async function convertToInteractive(key) {\n",
              "        const element = document.querySelector('#df-2757bcc9-4385-4476-9bf4-edfa358812da');\n",
              "        const dataTable =\n",
              "          await google.colab.kernel.invokeFunction('convertToInteractive',\n",
              "                                                    [key], {});\n",
              "        if (!dataTable) return;\n",
              "\n",
              "        const docLinkHtml = 'Like what you see? Visit the ' +\n",
              "          '<a target=\"_blank\" href=https://colab.research.google.com/notebooks/data_table.ipynb>data table notebook</a>'\n",
              "          + ' to learn more about interactive tables.';\n",
              "        element.innerHTML = '';\n",
              "        dataTable['output_type'] = 'display_data';\n",
              "        await google.colab.output.renderOutput(dataTable, element);\n",
              "        const docLink = document.createElement('div');\n",
              "        docLink.innerHTML = docLinkHtml;\n",
              "        element.appendChild(docLink);\n",
              "      }\n",
              "    </script>\n",
              "  </div>\n",
              "\n",
              "\n",
              "<div id=\"df-8a2c11f3-b681-479d-9f9f-2d80389ad4ac\">\n",
              "  <button class=\"colab-df-quickchart\" onclick=\"quickchart('df-8a2c11f3-b681-479d-9f9f-2d80389ad4ac')\"\n",
              "            title=\"Suggest charts\"\n",
              "            style=\"display:none;\">\n",
              "\n",
              "<svg xmlns=\"http://www.w3.org/2000/svg\" height=\"24px\"viewBox=\"0 0 24 24\"\n",
              "     width=\"24px\">\n",
              "    <g>\n",
              "        <path d=\"M19 3H5c-1.1 0-2 .9-2 2v14c0 1.1.9 2 2 2h14c1.1 0 2-.9 2-2V5c0-1.1-.9-2-2-2zM9 17H7v-7h2v7zm4 0h-2V7h2v10zm4 0h-2v-4h2v4z\"/>\n",
              "    </g>\n",
              "</svg>\n",
              "  </button>\n",
              "\n",
              "<style>\n",
              "  .colab-df-quickchart {\n",
              "      --bg-color: #E8F0FE;\n",
              "      --fill-color: #1967D2;\n",
              "      --hover-bg-color: #E2EBFA;\n",
              "      --hover-fill-color: #174EA6;\n",
              "      --disabled-fill-color: #AAA;\n",
              "      --disabled-bg-color: #DDD;\n",
              "  }\n",
              "\n",
              "  [theme=dark] .colab-df-quickchart {\n",
              "      --bg-color: #3B4455;\n",
              "      --fill-color: #D2E3FC;\n",
              "      --hover-bg-color: #434B5C;\n",
              "      --hover-fill-color: #FFFFFF;\n",
              "      --disabled-bg-color: #3B4455;\n",
              "      --disabled-fill-color: #666;\n",
              "  }\n",
              "\n",
              "  .colab-df-quickchart {\n",
              "    background-color: var(--bg-color);\n",
              "    border: none;\n",
              "    border-radius: 50%;\n",
              "    cursor: pointer;\n",
              "    display: none;\n",
              "    fill: var(--fill-color);\n",
              "    height: 32px;\n",
              "    padding: 0;\n",
              "    width: 32px;\n",
              "  }\n",
              "\n",
              "  .colab-df-quickchart:hover {\n",
              "    background-color: var(--hover-bg-color);\n",
              "    box-shadow: 0 1px 2px rgba(60, 64, 67, 0.3), 0 1px 3px 1px rgba(60, 64, 67, 0.15);\n",
              "    fill: var(--button-hover-fill-color);\n",
              "  }\n",
              "\n",
              "  .colab-df-quickchart-complete:disabled,\n",
              "  .colab-df-quickchart-complete:disabled:hover {\n",
              "    background-color: var(--disabled-bg-color);\n",
              "    fill: var(--disabled-fill-color);\n",
              "    box-shadow: none;\n",
              "  }\n",
              "\n",
              "  .colab-df-spinner {\n",
              "    border: 2px solid var(--fill-color);\n",
              "    border-color: transparent;\n",
              "    border-bottom-color: var(--fill-color);\n",
              "    animation:\n",
              "      spin 1s steps(1) infinite;\n",
              "  }\n",
              "\n",
              "  @keyframes spin {\n",
              "    0% {\n",
              "      border-color: transparent;\n",
              "      border-bottom-color: var(--fill-color);\n",
              "      border-left-color: var(--fill-color);\n",
              "    }\n",
              "    20% {\n",
              "      border-color: transparent;\n",
              "      border-left-color: var(--fill-color);\n",
              "      border-top-color: var(--fill-color);\n",
              "    }\n",
              "    30% {\n",
              "      border-color: transparent;\n",
              "      border-left-color: var(--fill-color);\n",
              "      border-top-color: var(--fill-color);\n",
              "      border-right-color: var(--fill-color);\n",
              "    }\n",
              "    40% {\n",
              "      border-color: transparent;\n",
              "      border-right-color: var(--fill-color);\n",
              "      border-top-color: var(--fill-color);\n",
              "    }\n",
              "    60% {\n",
              "      border-color: transparent;\n",
              "      border-right-color: var(--fill-color);\n",
              "    }\n",
              "    80% {\n",
              "      border-color: transparent;\n",
              "      border-right-color: var(--fill-color);\n",
              "      border-bottom-color: var(--fill-color);\n",
              "    }\n",
              "    90% {\n",
              "      border-color: transparent;\n",
              "      border-bottom-color: var(--fill-color);\n",
              "    }\n",
              "  }\n",
              "</style>\n",
              "\n",
              "  <script>\n",
              "    async function quickchart(key) {\n",
              "      const quickchartButtonEl =\n",
              "        document.querySelector('#' + key + ' button');\n",
              "      quickchartButtonEl.disabled = true;  // To prevent multiple clicks.\n",
              "      quickchartButtonEl.classList.add('colab-df-spinner');\n",
              "      try {\n",
              "        const charts = await google.colab.kernel.invokeFunction(\n",
              "            'suggestCharts', [key], {});\n",
              "      } catch (error) {\n",
              "        console.error('Error during call to suggestCharts:', error);\n",
              "      }\n",
              "      quickchartButtonEl.classList.remove('colab-df-spinner');\n",
              "      quickchartButtonEl.classList.add('colab-df-quickchart-complete');\n",
              "    }\n",
              "    (() => {\n",
              "      let quickchartButtonEl =\n",
              "        document.querySelector('#df-8a2c11f3-b681-479d-9f9f-2d80389ad4ac button');\n",
              "      quickchartButtonEl.style.display =\n",
              "        google.colab.kernel.accessAllowed ? 'block' : 'none';\n",
              "    })();\n",
              "  </script>\n",
              "</div>\n",
              "\n",
              "  <div id=\"id_a9dd1fe7-725d-44eb-b490-25210e93a496\">\n",
              "    <style>\n",
              "      .colab-df-generate {\n",
              "        background-color: #E8F0FE;\n",
              "        border: none;\n",
              "        border-radius: 50%;\n",
              "        cursor: pointer;\n",
              "        display: none;\n",
              "        fill: #1967D2;\n",
              "        height: 32px;\n",
              "        padding: 0 0 0 0;\n",
              "        width: 32px;\n",
              "      }\n",
              "\n",
              "      .colab-df-generate:hover {\n",
              "        background-color: #E2EBFA;\n",
              "        box-shadow: 0px 1px 2px rgba(60, 64, 67, 0.3), 0px 1px 3px 1px rgba(60, 64, 67, 0.15);\n",
              "        fill: #174EA6;\n",
              "      }\n",
              "\n",
              "      [theme=dark] .colab-df-generate {\n",
              "        background-color: #3B4455;\n",
              "        fill: #D2E3FC;\n",
              "      }\n",
              "\n",
              "      [theme=dark] .colab-df-generate:hover {\n",
              "        background-color: #434B5C;\n",
              "        box-shadow: 0px 1px 3px 1px rgba(0, 0, 0, 0.15);\n",
              "        filter: drop-shadow(0px 1px 2px rgba(0, 0, 0, 0.3));\n",
              "        fill: #FFFFFF;\n",
              "      }\n",
              "    </style>\n",
              "    <button class=\"colab-df-generate\" onclick=\"generateWithVariable('results_comparison')\"\n",
              "            title=\"Generate code using this dataframe.\"\n",
              "            style=\"display:none;\">\n",
              "\n",
              "  <svg xmlns=\"http://www.w3.org/2000/svg\" height=\"24px\"viewBox=\"0 0 24 24\"\n",
              "       width=\"24px\">\n",
              "    <path d=\"M7,19H8.4L18.45,9,17,7.55,7,17.6ZM5,21V16.75L18.45,3.32a2,2,0,0,1,2.83,0l1.4,1.43a1.91,1.91,0,0,1,.58,1.4,1.91,1.91,0,0,1-.58,1.4L9.25,21ZM18.45,9,17,7.55Zm-12,3A5.31,5.31,0,0,0,4.9,8.1,5.31,5.31,0,0,0,1,6.5,5.31,5.31,0,0,0,4.9,4.9,5.31,5.31,0,0,0,6.5,1,5.31,5.31,0,0,0,8.1,4.9,5.31,5.31,0,0,0,12,6.5,5.46,5.46,0,0,0,6.5,12Z\"/>\n",
              "  </svg>\n",
              "    </button>\n",
              "    <script>\n",
              "      (() => {\n",
              "      const buttonEl =\n",
              "        document.querySelector('#id_a9dd1fe7-725d-44eb-b490-25210e93a496 button.colab-df-generate');\n",
              "      buttonEl.style.display =\n",
              "        google.colab.kernel.accessAllowed ? 'block' : 'none';\n",
              "\n",
              "      buttonEl.onclick = () => {\n",
              "        google.colab.notebook.generateWithVariable('results_comparison');\n",
              "      }\n",
              "      })();\n",
              "    </script>\n",
              "  </div>\n",
              "\n",
              "    </div>\n",
              "  </div>\n"
            ],
            "application/vnd.google.colaboratory.intrinsic+json": {
              "type": "dataframe",
              "variable_name": "results_comparison",
              "summary": "{\n  \"name\": \"results_comparison\",\n  \"rows\": 3,\n  \"fields\": [\n    {\n      \"column\": \"Model\",\n      \"properties\": {\n        \"dtype\": \"string\",\n        \"num_unique_values\": 3,\n        \"samples\": [\n          \"FEM_Time\",\n          \"FEM_Entity\",\n          \"FEM_Both\"\n        ],\n        \"semantic_type\": \"\",\n        \"description\": \"\"\n      }\n    },\n    {\n      \"column\": \"R\\u00b2_within\",\n      \"properties\": {\n        \"dtype\": \"number\",\n        \"std\": 8.969376983619341,\n        \"min\": -14.948545820496806,\n        \"max\": 0.9236608375256932,\n        \"num_unique_values\": 3,\n        \"samples\": [\n          -14.948545820496806,\n          0.9236608375256932,\n          0.22661561552055443\n        ],\n        \"semantic_type\": \"\",\n        \"description\": \"\"\n      }\n    },\n    {\n      \"column\": \"R\\u00b2_between\",\n      \"properties\": {\n        \"dtype\": \"number\",\n        \"std\": 0.45731660444119115,\n        \"min\": 0.07576577326083411,\n        \"max\": 0.9898773499233291,\n        \"num_unique_values\": 3,\n        \"samples\": [\n          0.9898773499233291,\n          0.5595694428458996,\n          0.07576577326083411\n        ],\n        \"semantic_type\": \"\",\n        \"description\": \"\"\n      }\n    },\n    {\n      \"column\": \"R\\u00b2_overall\",\n      \"properties\": {\n        \"dtype\": \"number\",\n        \"std\": 0.45716177699380744,\n        \"min\": 0.07576873774385295,\n        \"max\": 0.9895641299416179,\n        \"num_unique_values\": 3,\n        \"samples\": [\n          0.9895641299416179,\n          0.5595765979263467,\n          0.07576873774385295\n        ],\n        \"semantic_type\": \"\",\n        \"description\": \"\"\n      }\n    },\n    {\n      \"column\": \"Log-Likelihood\",\n      \"properties\": {\n        \"dtype\": \"number\",\n        \"std\": 316.76801769064065,\n        \"min\": -14.682982650282383,\n        \"max\": 597.28149171013,\n        \"num_unique_values\": 3,\n        \"samples\": [\n          -14.682982650282383,\n          433.2518617112016,\n          597.28149171013\n        ],\n        \"semantic_type\": \"\",\n        \"description\": \"\"\n      }\n    },\n    {\n      \"column\": \"AIC\",\n      \"properties\": {\n        \"dtype\": \"number\",\n        \"std\": 633.5360353812813,\n        \"min\": -1186.56298342026,\n        \"max\": 37.36596530056477,\n        \"num_unique_values\": 3,\n        \"samples\": [\n          37.36596530056477,\n          -858.5037234224033,\n          -1186.56298342026\n        ],\n        \"semantic_type\": \"\",\n        \"description\": \"\"\n      }\n    },\n    {\n      \"column\": \"BIC\",\n      \"properties\": {\n        \"dtype\": \"number\",\n        \"std\": 633.5360353812813,\n        \"min\": -1173.903839524566,\n        \"max\": 50.025109196258825,\n        \"num_unique_values\": 3,\n        \"samples\": [\n          50.025109196258825,\n          -845.8445795267091,\n          -1173.903839524566\n        ],\n        \"semantic_type\": \"\",\n        \"description\": \"\"\n      }\n    }\n  ]\n}"
            }
          },
          "metadata": {},
          "execution_count": 259
        }
      ]
    },
    {
      "cell_type": "markdown",
      "source": [
        "* Within: Mengukur variansi dalam individu (fixed effects).\n",
        "* Between: Mengukur variansi antar individu (cross-sectional).\n",
        "* Overall: Mengukur variansi total, mencakup within dan between."
      ],
      "metadata": {
        "id": "bq_PYtez9RI5"
      }
    },
    {
      "cell_type": "markdown",
      "source": [
        "Jika R²_within negatif:\n",
        "\n",
        "1. Efek tetap individu danatau efek tetap waktu mungkin tidak signifikan atau tidak relevan dalam menjelaskan variabel dependen.\n",
        "2. Model mungkin mengalami overfitting karena terlalu banyak parameter dummy yang ditambahkan.\n",
        "3. Kombinasi efek tetap individu dan waktu sekaligus mungkin menyebabkan redundansi, terutama jika variabel independen sudah menjelaskan sebagian besar variasi data."
      ],
      "metadata": {
        "id": "9c-r9KSV70zD"
      }
    },
    {
      "cell_type": "markdown",
      "source": [
        "pilih FEM_entity atau model_fem_indv"
      ],
      "metadata": {
        "id": "s9zHyjNO8jXX"
      }
    },
    {
      "cell_type": "markdown",
      "source": [
        "# REM"
      ],
      "metadata": {
        "id": "gfOURJEZ2pfz"
      }
    },
    {
      "cell_type": "code",
      "source": [
        "formula = \"ln_PDRB ~ \" + \" + \".join([f'ln_{var}' for var in independent_variables]) + \" + EntityEffects + TimeEffects\"\n",
        "model_rem_2way = RandomEffects.from_formula(formula, df)\n",
        "results_rem_2way = model_rem_2way.fit()\n",
        "\n",
        "print(results_rem_2way)"
      ],
      "metadata": {
        "colab": {
          "base_uri": "https://localhost:8080/"
        },
        "id": "9_u60bZD2smV",
        "outputId": "488bf6f9-e0af-4555-c1bc-9dc322364d05"
      },
      "execution_count": null,
      "outputs": [
        {
          "output_type": "stream",
          "name": "stdout",
          "text": [
            "                        RandomEffects Estimation Summary                        \n",
            "================================================================================\n",
            "Dep. Variable:                ln_PDRB   R-squared:                        0.9968\n",
            "Estimator:              RandomEffects   R-squared (Between):              0.9996\n",
            "No. Observations:                 175   R-squared (Within):               0.8061\n",
            "Date:                Tue, Dec 17 2024   R-squared (Overall):              0.9996\n",
            "Time:                        11:01:11   Log-likelihood                    339.89\n",
            "Cov. Estimator:            Unadjusted                                           \n",
            "                                        F-statistic:                   1.345e+04\n",
            "Entities:                          35   P-value                           0.0000\n",
            "Avg Obs:                       5.0000   Distribution:                   F(4,171)\n",
            "Min Obs:                       5.0000                                           \n",
            "Max Obs:                       5.0000   F-statistic (robust):          1.345e+04\n",
            "                                        P-value                           0.0000\n",
            "Time periods:                       5   Distribution:                   F(4,171)\n",
            "Avg Obs:                       35.000                                           \n",
            "Min Obs:                       35.000                                           \n",
            "Max Obs:                       35.000                                           \n",
            "                                                                                \n",
            "                                Parameter Estimates                                \n",
            "===================================================================================\n",
            "                 Parameter  Std. Err.     T-stat    P-value    Lower CI    Upper CI\n",
            "-----------------------------------------------------------------------------------\n",
            "ln_PAD              0.0016     0.0011     1.4809     0.1405     -0.0005      0.0038\n",
            "ln_Kerja_Umur15     0.8205     0.0154     53.241     0.0000      0.7901      0.8510\n",
            "ln_Tabungan         0.2627     0.0276     9.5224     0.0000      0.2082      0.3171\n",
            "ln_Kredit           0.1376     0.0279     4.9338     0.0000      0.0825      0.1926\n",
            "===================================================================================\n"
          ]
        }
      ]
    },
    {
      "cell_type": "markdown",
      "source": [
        "# Comparison fem rem pooled"
      ],
      "metadata": {
        "id": "Eczd6989_4b8"
      }
    },
    {
      "cell_type": "code",
      "source": [
        "# model_OLS_ln = sm.OLS(dependent_variable, independent_variable_ln).fit()"
      ],
      "metadata": {
        "id": "4ooe4Q2wB_dD"
      },
      "execution_count": null,
      "outputs": []
    },
    {
      "cell_type": "code",
      "source": [
        "# Estimasi model Fixed Effects (FEM)\n",
        "# model_fem_indv = PanelOLS.from_formula(formula, df)\n",
        "# results_fem_indv = model_fem_indv.fit(cov_type='clustered', cluster_entity=True)"
      ],
      "metadata": {
        "id": "mrE8_4DN_7xQ"
      },
      "execution_count": null,
      "outputs": []
    },
    {
      "cell_type": "code",
      "source": [
        "# model_rem_2way = RandomEffects.from_formula(formula, df)\n",
        "# results_rem_2way = model_rem_2way.fit()"
      ],
      "metadata": {
        "id": "CgcOghnXAG2m"
      },
      "execution_count": null,
      "outputs": []
    },
    {
      "cell_type": "markdown",
      "source": [
        "1. FEM vs OLS"
      ],
      "metadata": {
        "id": "aIw1G47IC2OR"
      }
    },
    {
      "cell_type": "code",
      "source": [
        "import numpy as np\n",
        "from scipy.stats import f\n",
        "\n",
        "# Pastikan multi-index untuk data panel\n",
        "# df = df.set_index(['Kabupaten', 'Tahun'])\n",
        "\n",
        "# Jumlah individu (N) dan waktu (T)\n",
        "N = df.index.get_level_values(0).nunique()  # Banyak individu (Kabupaten)\n",
        "T = df.index.get_level_values(1).nunique()  # Banyak waktu (Tahun)\n",
        "NT = len(df)  # Total observasi\n",
        "\n",
        "# Model OLS (Tanpa Efek Tetap)\n",
        "X_ols = sm.add_constant(df[['ln_PAD', 'ln_Kerja_Umur15', 'ln_Tabungan', 'ln_Kredit']])\n",
        "y_ols = df['ln_PDRB']\n",
        "model_ols = sm.OLS(y_ols, X_ols).fit()\n",
        "RSS_OLS = np.sum(model_ols.resid ** 2)\n",
        "\n",
        "# Model Fixed Effects (FEM)\n",
        "formula_fem = \"ln_PDRB ~ ln_PAD + ln_Kerja_Umur15 + ln_Tabungan + ln_Kredit + EntityEffects\"\n",
        "model_fem = PanelOLS.from_formula(formula_fem, df)\n",
        "results_fem = model_fem.fit()\n",
        "RSS_FEM = np.sum(results_fem.resids ** 2)\n",
        "\n",
        "# Hitung F-Statistic\n",
        "numerator = (RSS_OLS - RSS_FEM) / (N - 1)\n",
        "denominator = RSS_FEM / (NT - N - len(results_fem.params))\n",
        "F_statistic = numerator / denominator\n",
        "\n",
        "# Hitung p-value dari distribusi F\n",
        "df1 = N - 1  # Derajat bebas pembilang\n",
        "df2 = NT - N - len(results_fem.params)  # Derajat bebas penyebut\n",
        "p_value = 1 - f.cdf(F_statistic, df1, df2)\n",
        "\n",
        "# Tampilkan hasil uji F\n",
        "print(\"\\nHasil Uji F untuk FEM vs OLS:\")\n",
        "print(f\"F-statistic: {F_statistic:.4f}\")\n",
        "print(f\"P-value: {p_value:.4f}\")\n",
        "\n",
        "# Interpretasi hasil\n",
        "if p_value < 0.05:\n",
        "    print(\"H0 ditolak: Model Fixed Effects lebih baik dibandingkan OLS.\")\n",
        "else:\n",
        "    print(\"H0 tidak ditolak: Model OLS lebih baik atau sama dengan Fixed Effects.\")"
      ],
      "metadata": {
        "colab": {
          "base_uri": "https://localhost:8080/"
        },
        "id": "6XOseGGlCfr8",
        "outputId": "40275867-2159-42ca-b85c-a3c4d3bbc8a8"
      },
      "execution_count": null,
      "outputs": [
        {
          "output_type": "stream",
          "name": "stdout",
          "text": [
            "\n",
            "Hasil Uji F untuk FEM vs OLS:\n",
            "F-statistic: 699.4442\n",
            "P-value: 0.0000\n",
            "H0 ditolak: Model Fixed Effects lebih baik dibandingkan OLS.\n"
          ]
        }
      ]
    },
    {
      "cell_type": "markdown",
      "source": [
        "2. REM vs OLS"
      ],
      "metadata": {
        "id": "gD_m7AU1FcET"
      }
    },
    {
      "cell_type": "code",
      "source": [
        "import pandas as pd\n",
        "import statsmodels.api as sm\n",
        "from statsmodels.stats.diagnostic import het_breuschpagan\n",
        "from linearmodels.panel import RandomEffects\n",
        "from linearmodels.panel import PanelOLS\n",
        "import pandas as pd\n",
        "import statsmodels.api as sm\n",
        "from linearmodels.panel import RandomEffects\n",
        "from linearmodels.panel import PanelOLS\n",
        "from scipy.stats import chi2"
      ],
      "metadata": {
        "id": "sx9sdZ3SDhve"
      },
      "execution_count": null,
      "outputs": []
    },
    {
      "cell_type": "code",
      "source": [
        "from scipy.stats import chi2\n",
        "\n",
        "# Ambil R-squared dari model OLS_ln (OLS dengan transformasi log)\n",
        "r_squared_ols_ln = model_OLS_ln.rsquared\n",
        "\n",
        "# Ambil R-squared dari model Random Effects (REM 2-way)\n",
        "r_squared_rem_2way = results_rem_2way.rsquared\n",
        "\n",
        "# Hitung Honda Test Statistic\n",
        "honda_statistic = (r_squared_rem_2way - r_squared_ols_ln) / (1 - r_squared_ols_ln)\n",
        "\n",
        "# Hitung p-value dari distribusi chi-square dengan 1 derajat kebebasan\n",
        "p_value_honda = 1 - chi2.cdf(honda_statistic, df=1)\n",
        "\n",
        "# Tampilkan hasil uji Honda\n",
        "print(f\"\\nHonda Test Statistic: {honda_statistic:.4f}\")\n",
        "print(f\"P-Value: {p_value_honda:.4f}\")\n",
        "\n",
        "# Interpretasi hasil\n",
        "if p_value_honda < 0.05:\n",
        "    print(\"Model REM lebih baik dibandingkan OLS berdasarkan uji Honda.\")\n",
        "else:\n",
        "    print(\"Model OLS mungkin sudah cukup.\")"
      ],
      "metadata": {
        "colab": {
          "base_uri": "https://localhost:8080/"
        },
        "id": "VzG8b4FsC9JE",
        "outputId": "89eefcfc-0633-4cfa-f9d8-a73cba2ea73c"
      },
      "execution_count": null,
      "outputs": [
        {
          "output_type": "stream",
          "name": "stdout",
          "text": [
            "\n",
            "Honda Test Statistic: 0.9822\n",
            "P-Value: 0.3217\n",
            "Model OLS mungkin sudah cukup.\n"
          ]
        }
      ]
    },
    {
      "cell_type": "markdown",
      "source": [
        "3. REM vs FEM"
      ],
      "metadata": {
        "id": "Y66eN8Z0F9OF"
      }
    },
    {
      "cell_type": "code",
      "source": [
        "import numpy as np\n",
        "from scipy.stats import chi2\n",
        "from numpy.linalg import inv\n",
        "\n",
        "# Estimasi model Random Effects (REM 2-way)\n",
        "formula = \"ln_PDRB ~ ln_PAD + ln_Kerja_Umur15 + ln_Tabungan + ln_Kredit + EntityEffects + TimeEffects\"\n",
        "model_rem_2way = RandomEffects.from_formula(formula, df)\n",
        "results_rem_2way = model_rem_2way.fit()\n",
        "\n",
        "# Estimasi model Fixed Effects (FEM)\n",
        "model_fem = PanelOLS.from_formula(\"ln_PDRB ~ ln_PAD + ln_Kerja_Umur15 + ln_Tabungan + ln_Kredit + EntityEffects\", df)\n",
        "results_fem_indv = model_fem_indv.fit(cov_type='clustered', cluster_entity=True)\n",
        "\n",
        "# Koefisien dan matriks kovarians untuk FEM dan REM\n",
        "b_FEM = results_fem.params\n",
        "b_REM = results_rem_2way.params\n",
        "\n",
        "cov_b_FEM = results_fem_indv.cov\n",
        "cov_b_REM = results_rem_2way.cov\n",
        "\n",
        "# Perhitungan statistik uji Hausman\n",
        "diff_b = b_FEM - b_REM\n",
        "cov_diff = cov_b_FEM + cov_b_REM\n",
        "\n",
        "# Periksa apakah matriks kovarian dapat diinvers\n",
        "try:\n",
        "    hausman_stat = np.dot(diff_b.T, inv(cov_diff)).dot(diff_b)\n",
        "    df_hausman = len(b_FEM)  # Jumlah parameter\n",
        "    p_value_hausman = 1 - chi2.cdf(hausman_stat, df_hausman)\n",
        "\n",
        "    # Tampilkan hasil uji Hausman\n",
        "    print(f\"\\nHausman Test Statistic: {hausman_stat:.4f}\")\n",
        "    print(f\"P-Value: {p_value_hausman:.4f}\")\n",
        "\n",
        "    # Interpretasi hasil\n",
        "    if p_value_hausman < 0.05:\n",
        "        print(\"Model FEM lebih tepat dibandingkan REM berdasarkan uji Hausman.\")\n",
        "    else:\n",
        "        print(\"Model REM lebih efisien dibandingkan FEM berdasarkan uji Hausman.\")\n",
        "\n",
        "except np.linalg.LinAlgError:\n",
        "    print(\"Matriks kovarian tidak dapat diinvers. Uji Hausman gagal dilakukan.\")"
      ],
      "metadata": {
        "colab": {
          "base_uri": "https://localhost:8080/"
        },
        "id": "hbiwFBA1F5L6",
        "outputId": "a160ac69-820f-4f61-a275-a0b7bf0a047a"
      },
      "execution_count": null,
      "outputs": [
        {
          "output_type": "stream",
          "name": "stdout",
          "text": [
            "\n",
            "Hausman Test Statistic: 115.8481\n",
            "P-Value: 0.0000\n",
            "Model FEM lebih tepat dibandingkan REM berdasarkan uji Hausman.\n"
          ]
        }
      ]
    },
    {
      "cell_type": "markdown",
      "source": [
        "Dipilih FEM"
      ],
      "metadata": {
        "id": "kS4Cq5C0GW0R"
      }
    },
    {
      "cell_type": "markdown",
      "source": [
        "# Asumsi Klasik FEM"
      ],
      "metadata": {
        "id": "ykh9T7HpCge7"
      }
    },
    {
      "cell_type": "code",
      "source": [
        "import numpy as np\n",
        "import pandas as pd\n",
        "import matplotlib.pyplot as plt\n",
        "import statsmodels.api as sm\n",
        "from scipy.stats import shapiro\n",
        "from statsmodels.stats.diagnostic import het_breuschpagan\n",
        "from statsmodels.stats.stattools import durbin_watson\n",
        "from statsmodels.stats.outliers_influence import variance_inflation_factor\n",
        "\n",
        "# Pastikan model sudah dijalankan\n",
        "model_fem = PanelOLS.from_formula(\"ln_PDRB ~ ln_PAD + ln_Kerja_Umur15 + ln_Tabungan + ln_Kredit + EntityEffects\", df)\n",
        "results_fem = model_fem.fit(cov_type='clustered', cluster_entity=True)\n",
        "\n",
        "# Ambil residual dari model FEM\n",
        "residuals = results_fem.resids\n",
        "\n",
        "# 1. UJI NORMALITAS RESIDUAL\n",
        "print(\"=== UJI NORMALITAS RESIDUAL ===\")\n",
        "stat, p_value = shapiro(residuals)\n",
        "print(f\"Shapiro-Wilk Test Statistic: {stat:.4f}\")\n",
        "\n",
        "# 2. UJI AUTOKORELASI RESIDUAL (Durbin-Watson Test)\n",
        "print(\"\\n=== UJI AUTOKORELASI RESIDUAL ===\")\n",
        "dw_statistic = durbin_watson(residuals)\n",
        "print(f\"Durbin-Watson Statistic: {dw_statistic:.4f}\")\n",
        "if 1.5 <= dw_statistic <= 2.5:\n",
        "    print(\"Tidak ada autokorelasi residual.\")\n",
        "else:\n",
        "    print(\"Ada indikasi autokorelasi residual.\")\n",
        "\n",
        "# 3. UJI HETEROSKEDASTISITAS (Breusch-Pagan Test)\n",
        "print(\"\\n=== UJI HETEROSKEDASTISITAS ===\")\n",
        "import statsmodels.api as sm\n",
        "\n",
        "# Sort the data by the predicted values\n",
        "residuals = results_fem_indv.resids\n",
        "# Access dependent variable values using .dataframe attribute instead of .values\n",
        "dependent_variable = results_fem_indv.model.dependent.dataframe.values\n",
        "sorted_data = sorted(zip(results_fem_indv.fitted_values, residuals), key=lambda x: x[0])\n",
        "fitted_values_sorted, residuals_sorted = zip(*sorted_data)\n",
        "\n",
        "# Split the data into two halves\n",
        "split_point = len(residuals_sorted) // 2\n",
        "residuals_part1 = np.array(residuals_sorted[:split_point])\n",
        "residuals_part2 = np.array(residuals_sorted[split_point:])\n",
        "\n",
        "# Calculate the sum of squared residuals for each part\n",
        "rss1 = np.sum(residuals_part1**2)\n",
        "rss2 = np.sum(residuals_part2**2)\n",
        "\n",
        "# Calculate the Goldfeld-Quandt statistic\n",
        "gq_statistic = rss1 / rss2\n",
        "\n",
        "# Get the degrees of freedom for each part\n",
        "df1 = len(residuals_part1) - 1\n",
        "df2 = len(residuals_part2) - 1\n",
        "\n",
        "from scipy.stats import f  # Import f for F-distribution\n",
        "p_value = 1 - f.cdf(gq_statistic, df1, df2)\n",
        "\n",
        "# Print the results\n",
        "print(\"\\nGoldfeld-Quandt Test Results:\")\n",
        "print(f\"GQ Statistic: {gq_statistic:.4f}\")\n",
        "\n",
        "# Interpret the results\n",
        "alpha = 0.05\n",
        "if p_value < alpha:\n",
        "    print(\"Reject the null hypothesis: Heteroscedasticity is present.\")\n",
        "else:\n",
        "    print(\"Fail to reject the null hypothesis: No heteroscedasticity is detected.\")\n",
        "\n",
        "# 4. UJI MULTIKOLINEARITAS (VIF)\n",
        "import pandas as pd\n",
        "import numpy as np\n",
        "from statsmodels.stats.outliers_influence import variance_inflation_factor\n",
        "import statsmodels.api as sm\n",
        "\n",
        "# Variabel independen dengan transformasi logaritma natural\n",
        "independent_variables_ln = [f'ln_{var}' for var in ['PAD', 'Kerja_Umur15', 'Tabungan', 'Kredit']]\n",
        "\n",
        "# Ambil data hanya untuk variabel independen\n",
        "X_vif = df[independent_variables_ln]\n",
        "\n",
        "# Tambahkan konstanta ke data independen untuk perhitungan VIF\n",
        "X_vif_with_const = sm.add_constant(X_vif)\n",
        "\n",
        "# Hitung VIF untuk setiap variabel\n",
        "vif = pd.DataFrame()\n",
        "vif['Variable'] = X_vif_with_const.columns\n",
        "vif['VIF'] = [variance_inflation_factor(X_vif_with_const.values, i) for i in range(X_vif_with_const.shape[1])]\n",
        "\n",
        "# Visualisasi Residual untuk Normalitas\n",
        "plt.figure(figsize=(8, 6))\n",
        "plt.hist(residuals, bins=30, edgecolor='k', alpha=0.7)\n",
        "plt.title(\"Histogram Residuals\")\n",
        "plt.xlabel(\"Residual\")\n",
        "plt.ylabel(\"Frequency\")\n",
        "plt.show()\n"
      ],
      "metadata": {
        "colab": {
          "base_uri": "https://localhost:8080/",
          "height": 772
        },
        "id": "sXgb-NMuMyGp",
        "outputId": "90e5c5f6-00e9-477a-94de-d751bf2ffc53"
      },
      "execution_count": null,
      "outputs": [
        {
          "output_type": "stream",
          "name": "stdout",
          "text": [
            "=== UJI NORMALITAS RESIDUAL ===\n",
            "Shapiro-Wilk Test Statistic: 0.9786\n",
            "\n",
            "=== UJI AUTOKORELASI RESIDUAL ===\n",
            "Durbin-Watson Statistic: 1.6326\n",
            "Tidak ada autokorelasi residual.\n",
            "\n",
            "=== UJI HETEROSKEDASTISITAS ===\n",
            "\n",
            "Goldfeld-Quandt Test Results:\n",
            "GQ Statistic: 0.0000\n",
            "Fail to reject the null hypothesis: No heteroscedasticity is detected.\n"
          ]
        },
        {
          "output_type": "display_data",
          "data": {
            "text/plain": [
              "<Figure size 800x600 with 1 Axes>"
            ],
            "image/png": "[encoded data removed]"
          },
          "metadata": {}
        }
      ]
    },
    {
      "source": [
        "print(\"\\n=== UJI MULTIKOLINEARITAS ===\")\n",
        "print(\"Hasil Uji VIF untuk Variabel Independen:\")\n",
        "vif"
      ],
      "cell_type": "code",
      "metadata": {
        "colab": {
          "base_uri": "https://localhost:8080/",
          "height": 258
        },
        "id": "1wvgL1cfNZXm",
        "outputId": "46d1ae44-0b41-4af2-e841-7b2fddcb2833"
      },
      "execution_count": null,
      "outputs": [
        {
          "output_type": "stream",
          "name": "stdout",
          "text": [
            "\n",
            "=== UJI MULTIKOLINEARITAS ===\n",
            "Hasil Uji VIF untuk Variabel Independen:\n"
          ]
        },
        {
          "output_type": "execute_result",
          "data": {
            "text/plain": [
              "          Variable         VIF\n",
              "0            const  947.681792\n",
              "1           ln_PAD    1.011387\n",
              "2  ln_Kerja_Umur15    1.153318\n",
              "3      ln_Tabungan    3.273319\n",
              "4        ln_Kredit    3.505051"
            ],
            "text/html": [
              "\n",
              "  <div id=\"df-7250ab77-d1f8-4410-9fe2-0efb75257294\" class=\"colab-df-container\">\n",
              "    <div>\n",
              "<style scoped>\n",
              "    .dataframe tbody tr th:only-of-type {\n",
              "        vertical-align: middle;\n",
              "    }\n",
              "\n",
              "    .dataframe tbody tr th {\n",
              "        vertical-align: top;\n",
              "    }\n",
              "\n",
              "    .dataframe thead th {\n",
              "        text-align: right;\n",
              "    }\n",
              "</style>\n",
              "<table border=\"1\" class=\"dataframe\">\n",
              "  <thead>\n",
              "    <tr style=\"text-align: right;\">\n",
              "      <th></th>\n",
              "      <th>Variable</th>\n",
              "      <th>VIF</th>\n",
              "    </tr>\n",
              "  </thead>\n",
              "  <tbody>\n",
              "    <tr>\n",
              "      <th>0</th>\n",
              "      <td>const</td>\n",
              "      <td>947.681792</td>\n",
              "    </tr>\n",
              "    <tr>\n",
              "      <th>1</th>\n",
              "      <td>ln_PAD</td>\n",
              "      <td>1.011387</td>\n",
              "    </tr>\n",
              "    <tr>\n",
              "      <th>2</th>\n",
              "      <td>ln_Kerja_Umur15</td>\n",
              "      <td>1.153318</td>\n",
              "    </tr>\n",
              "    <tr>\n",
              "      <th>3</th>\n",
              "      <td>ln_Tabungan</td>\n",
              "      <td>3.273319</td>\n",
              "    </tr>\n",
              "    <tr>\n",
              "      <th>4</th>\n",
              "      <td>ln_Kredit</td>\n",
              "      <td>3.505051</td>\n",
              "    </tr>\n",
              "  </tbody>\n",
              "</table>\n",
              "</div>\n",
              "    <div class=\"colab-df-buttons\">\n",
              "\n",
              "  <div class=\"colab-df-container\">\n",
              "    <button class=\"colab-df-convert\" onclick=\"convertToInteractive('df-7250ab77-d1f8-4410-9fe2-0efb75257294')\"\n",
              "            title=\"Convert this dataframe to an interactive table.\"\n",
              "            style=\"display:none;\">\n",
              "\n",
              "  <svg xmlns=\"http://www.w3.org/2000/svg\" height=\"24px\" viewBox=\"0 -960 960 960\">\n",
              "    <path d=\"M120-120v-720h720v720H120Zm60-500h600v-160H180v160Zm220 220h160v-160H400v160Zm0 220h160v-160H400v160ZM180-400h160v-160H180v160Zm440 0h160v-160H620v160ZM180-180h160v-160H180v160Zm440 0h160v-160H620v160Z\"/>\n",
              "  </svg>\n",
              "    </button>\n",
              "\n",
              "  <style>\n",
              "    .colab-df-container {\n",
              "      display:flex;\n",
              "      gap: 12px;\n",
              "    }\n",
              "\n",
              "    .colab-df-convert {\n",
              "      background-color: #E8F0FE;\n",
              "      border: none;\n",
              "      border-radius: 50%;\n",
              "      cursor: pointer;\n",
              "      display: none;\n",
              "      fill: #1967D2;\n",
              "      height: 32px;\n",
              "      padding: 0 0 0 0;\n",
              "      width: 32px;\n",
              "    }\n",
              "\n",
              "    .colab-df-convert:hover {\n",
              "      background-color: #E2EBFA;\n",
              "      box-shadow: 0px 1px 2px rgba(60, 64, 67, 0.3), 0px 1px 3px 1px rgba(60, 64, 67, 0.15);\n",
              "      fill: #174EA6;\n",
              "    }\n",
              "\n",
              "    .colab-df-buttons div {\n",
              "      margin-bottom: 4px;\n",
              "    }\n",
              "\n",
              "    [theme=dark] .colab-df-convert {\n",
              "      background-color: #3B4455;\n",
              "      fill: #D2E3FC;\n",
              "    }\n",
              "\n",
              "    [theme=dark] .colab-df-convert:hover {\n",
              "      background-color: #434B5C;\n",
              "      box-shadow: 0px 1px 3px 1px rgba(0, 0, 0, 0.15);\n",
              "      filter: drop-shadow(0px 1px 2px rgba(0, 0, 0, 0.3));\n",
              "      fill: #FFFFFF;\n",
              "    }\n",
              "  </style>\n",
              "\n",
              "    <script>\n",
              "      const buttonEl =\n",
              "        document.querySelector('#df-7250ab77-d1f8-4410-9fe2-0efb75257294 button.colab-df-convert');\n",
              "      buttonEl.style.display =\n",
              "        google.colab.kernel.accessAllowed ? 'block' : 'none';\n",
              "\n",
              "      async function convertToInteractive(key) {\n",
              "        const element = document.querySelector('#df-7250ab77-d1f8-4410-9fe2-0efb75257294');\n",
              "        const dataTable =\n",
              "          await google.colab.kernel.invokeFunction('convertToInteractive',\n",
              "                                                    [key], {});\n",
              "        if (!dataTable) return;\n",
              "\n",
              "        const docLinkHtml = 'Like what you see? Visit the ' +\n",
              "          '<a target=\"_blank\" href=https://colab.research.google.com/notebooks/data_table.ipynb>data table notebook</a>'\n",
              "          + ' to learn more about interactive tables.';\n",
              "        element.innerHTML = '';\n",
              "        dataTable['output_type'] = 'display_data';\n",
              "        await google.colab.output.renderOutput(dataTable, element);\n",
              "        const docLink = document.createElement('div');\n",
              "        docLink.innerHTML = docLinkHtml;\n",
              "        element.appendChild(docLink);\n",
              "      }\n",
              "    </script>\n",
              "  </div>\n",
              "\n",
              "\n",
              "<div id=\"df-b26ba6b4-7830-4b4f-a12e-f3c03129af9e\">\n",
              "  <button class=\"colab-df-quickchart\" onclick=\"quickchart('df-b26ba6b4-7830-4b4f-a12e-f3c03129af9e')\"\n",
              "            title=\"Suggest charts\"\n",
              "            style=\"display:none;\">\n",
              "\n",
              "<svg xmlns=\"http://www.w3.org/2000/svg\" height=\"24px\"viewBox=\"0 0 24 24\"\n",
              "     width=\"24px\">\n",
              "    <g>\n",
              "        <path d=\"M19 3H5c-1.1 0-2 .9-2 2v14c0 1.1.9 2 2 2h14c1.1 0 2-.9 2-2V5c0-1.1-.9-2-2-2zM9 17H7v-7h2v7zm4 0h-2V7h2v10zm4 0h-2v-4h2v4z\"/>\n",
              "    </g>\n",
              "</svg>\n",
              "  </button>\n",
              "\n",
              "<style>\n",
              "  .colab-df-quickchart {\n",
              "      --bg-color: #E8F0FE;\n",
              "      --fill-color: #1967D2;\n",
              "      --hover-bg-color: #E2EBFA;\n",
              "      --hover-fill-color: #174EA6;\n",
              "      --disabled-fill-color: #AAA;\n",
              "      --disabled-bg-color: #DDD;\n",
              "  }\n",
              "\n",
              "  [theme=dark] .colab-df-quickchart {\n",
              "      --bg-color: #3B4455;\n",
              "      --fill-color: #D2E3FC;\n",
              "      --hover-bg-color: #434B5C;\n",
              "      --hover-fill-color: #FFFFFF;\n",
              "      --disabled-bg-color: #3B4455;\n",
              "      --disabled-fill-color: #666;\n",
              "  }\n",
              "\n",
              "  .colab-df-quickchart {\n",
              "    background-color: var(--bg-color);\n",
              "    border: none;\n",
              "    border-radius: 50%;\n",
              "    cursor: pointer;\n",
              "    display: none;\n",
              "    fill: var(--fill-color);\n",
              "    height: 32px;\n",
              "    padding: 0;\n",
              "    width: 32px;\n",
              "  }\n",
              "\n",
              "  .colab-df-quickchart:hover {\n",
              "    background-color: var(--hover-bg-color);\n",
              "    box-shadow: 0 1px 2px rgba(60, 64, 67, 0.3), 0 1px 3px 1px rgba(60, 64, 67, 0.15);\n",
              "    fill: var(--button-hover-fill-color);\n",
              "  }\n",
              "\n",
              "  .colab-df-quickchart-complete:disabled,\n",
              "  .colab-df-quickchart-complete:disabled:hover {\n",
              "    background-color: var(--disabled-bg-color);\n",
              "    fill: var(--disabled-fill-color);\n",
              "    box-shadow: none;\n",
              "  }\n",
              "\n",
              "  .colab-df-spinner {\n",
              "    border: 2px solid var(--fill-color);\n",
              "    border-color: transparent;\n",
              "    border-bottom-color: var(--fill-color);\n",
              "    animation:\n",
              "      spin 1s steps(1) infinite;\n",
              "  }\n",
              "\n",
              "  @keyframes spin {\n",
              "    0% {\n",
              "      border-color: transparent;\n",
              "      border-bottom-color: var(--fill-color);\n",
              "      border-left-color: var(--fill-color);\n",
              "    }\n",
              "    20% {\n",
              "      border-color: transparent;\n",
              "      border-left-color: var(--fill-color);\n",
              "      border-top-color: var(--fill-color);\n",
              "    }\n",
              "    30% {\n",
              "      border-color: transparent;\n",
              "      border-left-color: var(--fill-color);\n",
              "      border-top-color: var(--fill-color);\n",
              "      border-right-color: var(--fill-color);\n",
              "    }\n",
              "    40% {\n",
              "      border-color: transparent;\n",
              "      border-right-color: var(--fill-color);\n",
              "      border-top-color: var(--fill-color);\n",
              "    }\n",
              "    60% {\n",
              "      border-color: transparent;\n",
              "      border-right-color: var(--fill-color);\n",
              "    }\n",
              "    80% {\n",
              "      border-color: transparent;\n",
              "      border-right-color: var(--fill-color);\n",
              "      border-bottom-color: var(--fill-color);\n",
              "    }\n",
              "    90% {\n",
              "      border-color: transparent;\n",
              "      border-bottom-color: var(--fill-color);\n",
              "    }\n",
              "  }\n",
              "</style>\n",
              "\n",
              "  <script>\n",
              "    async function quickchart(key) {\n",
              "      const quickchartButtonEl =\n",
              "        document.querySelector('#' + key + ' button');\n",
              "      quickchartButtonEl.disabled = true;  // To prevent multiple clicks.\n",
              "      quickchartButtonEl.classList.add('colab-df-spinner');\n",
              "      try {\n",
              "        const charts = await google.colab.kernel.invokeFunction(\n",
              "            'suggestCharts', [key], {});\n",
              "      } catch (error) {\n",
              "        console.error('Error during call to suggestCharts:', error);\n",
              "      }\n",
              "      quickchartButtonEl.classList.remove('colab-df-spinner');\n",
              "      quickchartButtonEl.classList.add('colab-df-quickchart-complete');\n",
              "    }\n",
              "    (() => {\n",
              "      let quickchartButtonEl =\n",
              "        document.querySelector('#df-b26ba6b4-7830-4b4f-a12e-f3c03129af9e button');\n",
              "      quickchartButtonEl.style.display =\n",
              "        google.colab.kernel.accessAllowed ? 'block' : 'none';\n",
              "    })();\n",
              "  </script>\n",
              "</div>\n",
              "\n",
              "  <div id=\"id_52fcbe4f-af69-48df-8318-2279d9df1042\">\n",
              "    <style>\n",
              "      .colab-df-generate {\n",
              "        background-color: #E8F0FE;\n",
              "        border: none;\n",
              "        border-radius: 50%;\n",
              "        cursor: pointer;\n",
              "        display: none;\n",
              "        fill: #1967D2;\n",
              "        height: 32px;\n",
              "        padding: 0 0 0 0;\n",
              "        width: 32px;\n",
              "      }\n",
              "\n",
              "      .colab-df-generate:hover {\n",
              "        background-color: #E2EBFA;\n",
              "        box-shadow: 0px 1px 2px rgba(60, 64, 67, 0.3), 0px 1px 3px 1px rgba(60, 64, 67, 0.15);\n",
              "        fill: #174EA6;\n",
              "      }\n",
              "\n",
              "      [theme=dark] .colab-df-generate {\n",
              "        background-color: #3B4455;\n",
              "        fill: #D2E3FC;\n",
              "      }\n",
              "\n",
              "      [theme=dark] .colab-df-generate:hover {\n",
              "        background-color: #434B5C;\n",
              "        box-shadow: 0px 1px 3px 1px rgba(0, 0, 0, 0.15);\n",
              "        filter: drop-shadow(0px 1px 2px rgba(0, 0, 0, 0.3));\n",
              "        fill: #FFFFFF;\n",
              "      }\n",
              "    </style>\n",
              "    <button class=\"colab-df-generate\" onclick=\"generateWithVariable('vif')\"\n",
              "            title=\"Generate code using this dataframe.\"\n",
              "            style=\"display:none;\">\n",
              "\n",
              "  <svg xmlns=\"http://www.w3.org/2000/svg\" height=\"24px\"viewBox=\"0 0 24 24\"\n",
              "       width=\"24px\">\n",
              "    <path d=\"M7,19H8.4L18.45,9,17,7.55,7,17.6ZM5,21V16.75L18.45,3.32a2,2,0,0,1,2.83,0l1.4,1.43a1.91,1.91,0,0,1,.58,1.4,1.91,1.91,0,0,1-.58,1.4L9.25,21ZM18.45,9,17,7.55Zm-12,3A5.31,5.31,0,0,0,4.9,8.1,5.31,5.31,0,0,0,1,6.5,5.31,5.31,0,0,0,4.9,4.9,5.31,5.31,0,0,0,6.5,1,5.31,5.31,0,0,0,8.1,4.9,5.31,5.31,0,0,0,12,6.5,5.46,5.46,0,0,0,6.5,12Z\"/>\n",
              "  </svg>\n",
              "    </button>\n",
              "    <script>\n",
              "      (() => {\n",
              "      const buttonEl =\n",
              "        document.querySelector('#id_52fcbe4f-af69-48df-8318-2279d9df1042 button.colab-df-generate');\n",
              "      buttonEl.style.display =\n",
              "        google.colab.kernel.accessAllowed ? 'block' : 'none';\n",
              "\n",
              "      buttonEl.onclick = () => {\n",
              "        google.colab.notebook.generateWithVariable('vif');\n",
              "      }\n",
              "      })();\n",
              "    </script>\n",
              "  </div>\n",
              "\n",
              "    </div>\n",
              "  </div>\n"
            ],
            "application/vnd.google.colaboratory.intrinsic+json": {
              "type": "dataframe",
              "variable_name": "vif",
              "summary": "{\n  \"name\": \"vif\",\n  \"rows\": 5,\n  \"fields\": [\n    {\n      \"column\": \"Variable\",\n      \"properties\": {\n        \"dtype\": \"string\",\n        \"num_unique_values\": 5,\n        \"samples\": [\n          \"ln_PAD\",\n          \"ln_Kredit\",\n          \"ln_Kerja_Umur15\"\n        ],\n        \"semantic_type\": \"\",\n        \"description\": \"\"\n      }\n    },\n    {\n      \"column\": \"VIF\",\n      \"properties\": {\n        \"dtype\": \"number\",\n        \"std\": 422.81789960822124,\n        \"min\": 1.0113871196829538,\n        \"max\": 947.6817919344892,\n        \"num_unique_values\": 5,\n        \"samples\": [\n          1.0113871196829538,\n          3.5050509059899917,\n          1.1533175317379019\n        ],\n        \"semantic_type\": \"\",\n        \"description\": \"\"\n      }\n    }\n  ]\n}"
            }
          },
          "metadata": {},
          "execution_count": 271
        }
      ]
    }
  ]
}